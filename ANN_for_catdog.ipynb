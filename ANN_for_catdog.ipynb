{
  "nbformat": 4,
  "nbformat_minor": 0,
  "metadata": {
    "colab": {
      "name": "ANN_for_catdog.ipynb",
      "provenance": [],
      "collapsed_sections": []
    },
    "kernelspec": {
      "name": "python3",
      "display_name": "Python 3"
    },
    "language_info": {
      "name": "python"
    },
    "accelerator": "GPU"
  },
  "cells": [
    {
      "cell_type": "code",
      "execution_count": 1,
      "metadata": {
        "colab": {
          "base_uri": "https://localhost:8080/"
        },
        "id": "dITxcASDoTMP",
        "outputId": "3aa5312b-c6ce-4315-a407-25c715382740"
      },
      "outputs": [
        {
          "output_type": "stream",
          "name": "stdout",
          "text": [
            "Drive already mounted at /content/drive; to attempt to forcibly remount, call drive.mount(\"/content/drive\", force_remount=True).\n"
          ]
        }
      ],
      "source": [
        "from google.colab import drive\n",
        "drive.mount('/content/drive')"
      ]
    },
    {
      "cell_type": "code",
      "source": [
        "# Artificial Neural Network\n",
        "\n",
        "# Importing the libraries\n",
        "import numpy as np\n",
        "import pandas as pd\n",
        "import tensorflow as tf\n",
        "tf.__version__"
      ],
      "metadata": {
        "colab": {
          "base_uri": "https://localhost:8080/",
          "height": 35
        },
        "id": "KrxtP7owvRxG",
        "outputId": "c1f2591e-37c7-4301-873b-b49e0471ad6b"
      },
      "execution_count": 2,
      "outputs": [
        {
          "output_type": "execute_result",
          "data": {
            "application/vnd.google.colaboratory.intrinsic+json": {
              "type": "string"
            },
            "text/plain": [
              "'2.7.0'"
            ]
          },
          "metadata": {},
          "execution_count": 2
        }
      ]
    },
    {
      "cell_type": "code",
      "source": [
        "# Initializing the ANN\n",
        "\n",
        "ann = tf.keras.models.Sequential()\n",
        "\n",
        "#changing into one dimension\n",
        "# tf.keras.layers.Reshape((-1), input_shape=(64,64,3))\n",
        "tf.keras.layers.Flatten(input_shape=(64,64))\n",
        "\n",
        "# Adding the input layer and the first hidden layer\n",
        "ann.add(tf.keras.layers.Dense(units=64*64*3, activation='relu'))\n",
        "\n",
        "# Adding the second hidden layer\n",
        "ann.add(tf.keras.layers.Dense(units=28, activation='relu'))\n",
        "ann.add(tf.keras.layers.Flatten())\n",
        "\n",
        "# Adding the output layer\n",
        "ann.add(tf.keras.layers.Dense(units=1, activation='sigmoid'))\n",
        "\n"
      ],
      "metadata": {
        "id": "H9ZHLY3TvW6v"
      },
      "execution_count": 3,
      "outputs": []
    },
    {
      "cell_type": "code",
      "source": [
        "\n",
        "\n",
        "# Part 3 - Training the ANN\n",
        "\n",
        "# Compiling the ANN\n",
        "ann.compile(optimizer = 'adam', loss = 'binary_crossentropy', metrics = ['accuracy'])"
      ],
      "metadata": {
        "id": "8vMNOecX3iJd"
      },
      "execution_count": 4,
      "outputs": []
    },
    {
      "cell_type": "code",
      "source": [
        "from tensorflow.keras.preprocessing.image import ImageDataGenerator\n",
        "\n",
        "train_datagen = ImageDataGenerator(rescale = 1./255,\n",
        "                                   shear_range = 0.2,\n",
        "                                   zoom_range = 0.2,\n",
        "                                   horizontal_flip = True)\n",
        "test_datagen = ImageDataGenerator(rescale = 1./255)\n",
        "\n",
        "training_set = train_datagen.flow_from_directory('/content/drive/MyDrive/inspiring/dataset/training_set',\n",
        "                                                 target_size = (64, 64),\n",
        "                                                 batch_size = 2,\n",
        "                                                 class_mode = 'binary')\n",
        "test_set = test_datagen.flow_from_directory('/content/drive/MyDrive/inspiring/dataset/test_set',\n",
        "                                            target_size = (64, 64),\n",
        "                                            batch_size = 2,\n",
        "                                            class_mode = 'binary')"
      ],
      "metadata": {
        "colab": {
          "base_uri": "https://localhost:8080/"
        },
        "id": "G79NVQJHvbu0",
        "outputId": "91f7df04-311c-4b3c-83f9-33af5faf2b7d"
      },
      "execution_count": 5,
      "outputs": [
        {
          "output_type": "stream",
          "name": "stdout",
          "text": [
            "Found 8000 images belonging to 2 classes.\n",
            "Found 2000 images belonging to 2 classes.\n"
          ]
        }
      ]
    },
    {
      "cell_type": "code",
      "source": [
        "ann.fit(training_set,\n",
        "        steps_per_epoch = 250,\n",
        "        epochs = 5,\n",
        "        validation_data = test_set)\n",
        "        # validation_steps = 2000)"
      ],
      "metadata": {
        "colab": {
          "base_uri": "https://localhost:8080/"
        },
        "id": "NCAhsXzYvfmT",
        "outputId": "c64a1cff-1e97-4ad1-ab0a-b6d8f46451c2"
      },
      "execution_count": null,
      "outputs": [
        {
          "output_type": "stream",
          "name": "stdout",
          "text": [
            "Epoch 1/5\n",
            "250/250 [==============================] - 529s 2s/step - loss: 0.6965 - accuracy: 0.4780 - val_loss: 0.6931 - val_accuracy: 0.5000\n",
            "Epoch 2/5\n",
            "250/250 [==============================] - 90s 362ms/step - loss: 0.6934 - accuracy: 0.5040 - val_loss: 0.6932 - val_accuracy: 0.5000\n",
            "Epoch 3/5\n",
            "  5/250 [..............................] - ETA: 48s - loss: 0.6937 - accuracy: 0.4000"
          ]
        }
      ]
    }
  ]
}